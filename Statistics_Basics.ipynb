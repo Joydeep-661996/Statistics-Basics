{
  "nbformat": 4,
  "nbformat_minor": 0,
  "metadata": {
    "colab": {
      "provenance": []
    },
    "kernelspec": {
      "name": "python3",
      "display_name": "Python 3"
    },
    "language_info": {
      "name": "python"
    }
  },
  "cells": [
    {
      "cell_type": "markdown",
      "source": [
        "Q1.What is statistics, and why is it important?\n",
        "\n",
        "ANS:Statistics is the science that deals with methodologies to gather, review, analyse and draw conclusions from\n",
        "data. With specific Statistics tools in hand we can derive many key observations and make predictions from the\n",
        "data in hand."
      ],
      "metadata": {
        "id": "oXcCrQ4shEGe"
      }
    },
    {
      "cell_type": "markdown",
      "source": [
        "Q2. What are the two main types of statistics?\n",
        "\n",
        "ANS:DESCRIPTIVE STATISTICS\n",
        "The type of statistics dealing with numbers (numerical facts, figures, or information) to describe phenomena.\n",
        "These numbers are descriptive statistics. They are used to describe, summarise the characteristics of a sample\n",
        "or dataset, such as variables mean, standard deviation, or frequency etc.\n",
        "\n",
        "INFERENTIAL STATISTICS\n",
        "\n",
        "Inferential statistics is a decision, estimate, prediction, or generalisation about a population based on a sample.\n",
        "Here we deal with the sample/samples and compare them and perform some tests to draw some conclusions\n",
        "on the population data based on the observations from the sample!"
      ],
      "metadata": {
        "id": "P-ZUpyWshxtc"
      }
    },
    {
      "cell_type": "markdown",
      "source": [
        "Q3.What are descriptive statistics?\n",
        "\n",
        "ANS:The type of statistics dealing with numbers (numerical facts, figures, or information) to describe phenomena.\n",
        "These numbers are descriptive statistics. They are used to describe, summarise the characteristics of a sample\n",
        "or dataset, such as variables mean, standard deviation, or frequency etc."
      ],
      "metadata": {
        "id": "Urfc4s7liUl3"
      }
    },
    {
      "cell_type": "markdown",
      "source": [
        "Q4.What is inferential statistics?\n",
        "\n",
        "ANS: Inferential statistics is a decision, estimate, prediction, or generalisation about a population based on a sample.\n",
        "Here we deal with the sample/samples and compare them and perform some tests to draw some conclusions\n",
        "on the population data based on the observations from the sample!"
      ],
      "metadata": {
        "id": "NQsNvsUdmeNG"
      }
    },
    {
      "cell_type": "markdown",
      "source": [
        "Q5.What is sampling in statistics?\n",
        "\n",
        "ANS:  Sampling involves carefully selecting a representative subset of the population to ensure that the\n",
        "characteristics and attributes of the sample reflect those of the entire population as accurately as possible. If\n",
        "the sample is chosen correctly and is truly representative, the statistical analysis of the sample can provide\n",
        "valuable insights into the larger population."
      ],
      "metadata": {
        "id": "8cwpH0E4m4MI"
      }
    },
    {
      "cell_type": "markdown",
      "source": [
        "Q6.What are the different types of sampling methods?\n",
        "\n",
        "ANS:There are different methods of sampling, including\n",
        "\n",
        "1. Random Sampling: Every individual in the population has an equal chance of being selected. This helps\n",
        "minimize bias and increase the likelihood that the sample represents the population accurately\n",
        "\n",
        "\n",
        "2. Stratified Sampling: The population is divided into distinct subgroups (strata) based on certain\n",
        "characteristics, and then a random sample is taken from each subgroup proportionate to its size. This\n",
        "ensures representation from various subgroups\n",
        "\n",
        "\n",
        "3. Systematic Sampling: Every nth individual is selected from the population after an initial random start. For\n",
        "example, you might select every 10th person from a list\n",
        "\n",
        "\n",
        "2. Cluster Sampling: The population is divided into clusters (e.g., geographic regions), and a random sample of\n",
        "clusters is selected. Then, all individuals within the selected clusters are included in the sample\n",
        "\n",
        "\n",
        "3. Convenience Sampling: This involves selecting individuals who are most readily available or accessible.\n",
        "While it's convenient, it can introduce bias and might not be representative\n",
        "\n",
        "\n",
        "4. Purposive Sampling: This is a non-random method where specific individuals are chosen intentionally\n",
        "because they possess certain characteristics of interest."
      ],
      "metadata": {
        "id": "VjJAd9yQn9Kk"
      }
    },
    {
      "cell_type": "markdown",
      "source": [
        "Q7. What is the difference between random and non-random sampling?\n",
        "\n",
        "ANS:🔹 Random Sampling\n",
        "Definition: Every member of the population has a known and equal chance of being selected.\n",
        "\n",
        "Key Features:\n",
        "\n",
        "Unbiased selection\n",
        "\n",
        "Uses probability theory\n",
        "\n",
        "Ensures representativeness of the population\n",
        "\n",
        "🔸 Non-Random Sampling (Non-Probability Sampling)\n",
        "Definition: Not every member has a known or equal chance of being selected.\n",
        "\n",
        "Key Features:\n",
        "\n",
        "Based on convenience, judgment, or quota\n",
        "\n",
        "Can introduce bias\n",
        "\n",
        "Not always representative"
      ],
      "metadata": {
        "id": "Bk7Tk5cktkqc"
      }
    },
    {
      "cell_type": "markdown",
      "source": [
        "Q8. Define and give examples of qualitative and quantitative data?\n",
        "\n",
        "Ans:🔹 Qualitative Data (Categorical)\n",
        "Definition: Data that describes qualities or characteristics; non-numerical.\n",
        "\n",
        "Examples:\n",
        "\n",
        "Colors: Red, Blue, Green\n",
        "\n",
        "Gender: Male, Female\n",
        "\n",
        "Material Type: Concrete, Steel\n",
        "\n",
        "Feedback: Good, Average, Poor\n",
        "\n",
        "🔸 Quantitative Data (Numerical)\n",
        "Definition: Data that represents quantities or counts; numerical in nature.\n",
        "\n",
        "Examples:\n",
        "\n",
        "Height: 170 cm\n",
        "\n",
        "Weight: 65 kg\n",
        "\n",
        "Number of floors in a building: 5 floors\n",
        "\n",
        "Concrete compressive strength: 30 MPa\n",
        "\n"
      ],
      "metadata": {
        "id": "709cO9QtzvEZ"
      }
    },
    {
      "cell_type": "markdown",
      "source": [
        "Q9.What are the different types of data in statistics?\n",
        "\n",
        "ANS:  🔹 1. Qualitative Data (Categorical Data)\n",
        "Describes qualities or categories, not measured in numbers.\n",
        "\n",
        "a) Nominal Data\n",
        "Categories without any order\n",
        "\n",
        "Examples: Gender (Male/Female), Material type (Steel, Concrete), Colors (Red, Blue)\n",
        "\n",
        "b) Ordinal Data\n",
        "Categories with a meaningful order, but differences between values are not measurable\n",
        "\n",
        "Examples: Satisfaction level (Low, Medium, High), Rankings (1st, 2nd, 3rd)\n",
        "\n",
        "🔸 2. Quantitative Data (Numerical Data)\n",
        "Represents measurable quantities.\n",
        "\n",
        "a) Discrete Data\n",
        "Countable, whole numbers\n",
        "\n",
        "Examples: Number of workers, Number of floors, Cracks in a wall\n",
        "\n",
        "b) Continuous Data\n",
        "Can take any value within a range; measurable\n",
        "\n",
        "Examples: Height, Weight, Area, Temperature, Concrete strength\n",
        "\n"
      ],
      "metadata": {
        "id": "87mPgQF00JY4"
      }
    },
    {
      "cell_type": "markdown",
      "source": [
        "Q10.Explain nominal, ordinal, interval, and ratio levels of measurement?\n",
        "\n",
        "ANS:🔹 1. Nominal\n",
        "Categories only, no order\n",
        "\n",
        "Example: Gender (Male, Female), Material type (Steel, Concrete)\n",
        "\n",
        "🔸 2. Ordinal\n",
        "Ordered categories, but differences between values are not measurable\n",
        "\n",
        "Example: Satisfaction (Poor, Average, Good), Rank in competition (1st, 2nd, 3rd)\n",
        "\n",
        "🔹 3. Interval\n",
        "Ordered, equal intervals, but no true zero\n",
        "\n",
        "Example: Temperature in Celsius or Fahrenheit (0°C doesn’t mean “no temperature”)\n",
        "\n",
        "🔸 4. Ratio\n",
        "Ordered, equal intervals, and true zero (zero means “none”)\n",
        "\n",
        "Example: Height, Weight, Age, Income, Length of a beam\n",
        "\n"
      ],
      "metadata": {
        "id": "h8H-dTUx0cF9"
      }
    },
    {
      "cell_type": "markdown",
      "source": [
        "Q11. What is the measure of central tendency?\n",
        "\n",
        "ANS:  It refers to a single value that represents the center or average of a dataset. It gives an idea of the typical value in the data.\n",
        "\n",
        "1. Main Types:\n",
        "Mean (Average):\n",
        "\n",
        "Sum of all values ÷ Number of values\n",
        "\n",
        "Example: (10 + 20 + 30) ÷ 3 = 20\n",
        "\n",
        "2. Median:\n",
        "\n",
        "Middle value when data is sorted\n",
        "\n",
        "Example: [5, 8, 12] → Median = 8\n",
        "\n",
        "Less affected by extreme values\n",
        "\n",
        "3. Mode:\n",
        "\n",
        "Most frequent value in the dataset\n",
        "\n",
        "Example: [4, 6, 6, 7] → Mode = 6\n",
        "\n"
      ],
      "metadata": {
        "id": "IzYtGfGs1JR9"
      }
    },
    {
      "cell_type": "markdown",
      "source": [
        "Q12. Define mean, median, and mode\n",
        "\n",
        "ANS: Mean: The average of all values.\n",
        "Formula: (Sum of values) ÷ (Number of values)\n",
        "Example: (10 + 20 + 30) ÷ 3 = 20\n",
        "\n",
        "🔸 Median\n",
        "The middle value when data is arranged in order.\n",
        "Example: [5, 8, 12] → Median = 8\n",
        "\n",
        "🔹 Mode\n",
        "The value that occurs most frequently.\n",
        "Example: [4, 6, 6, 7] → Mode = 6\n",
        "\n"
      ],
      "metadata": {
        "id": "P_Nc19MS1shi"
      }
    },
    {
      "cell_type": "markdown",
      "source": [
        "Q13. What is the significance of the measure of central tendency?\n",
        "\n",
        "ANS:The measure of central tendency is important because it:\n",
        "\n",
        "✅ 1. Summarizes Data\n",
        "Reduces a large set of data to a single representative value.\n",
        "\n",
        "Helps in quick understanding of the dataset.\n",
        "\n",
        "✅ 2. Aids in Comparison\n",
        "Allows comparison between different groups or time periods.\n",
        "\n",
        "Example: Compare average productivity of two construction sites.\n",
        "\n",
        "✅ 3. Helps in Decision Making\n",
        "Used in planning, budgeting, and forecasting.\n",
        "\n",
        "Example: Median income helps in setting fair wages.\n",
        "\n",
        "✅ 4. Identifies Trends\n",
        "Reveals patterns and general tendencies in data over time.\n",
        "\n",
        "Example: Average material cost trends for project estimation.\n",
        "\n",
        "✅ 5. Forms the Basis for Further Analysis\n",
        "Essential in statistical modeling, standard deviation, regression, etc.\n",
        "\n"
      ],
      "metadata": {
        "id": "cAg4bWNB2HvD"
      }
    },
    {
      "cell_type": "markdown",
      "source": [
        "Q14.What is variance, and how is it calculated?\n",
        "\n",
        "ANS:Variance measures the spread or dispersion of data values from the mean. It tells you how much the values deviate from the average.\n",
        "\n",
        "🔸 Formula for Variance\n",
        "🔹 For a Population:\n",
        "𝜎\n",
        "2\n",
        "=\n",
        "∑\n",
        "(\n",
        "𝑥\n",
        "𝑖\n",
        "−\n",
        "𝜇\n",
        ")\n",
        "2\n",
        "𝑁\n",
        "σ\n",
        "2\n",
        " =\n",
        "N\n",
        "∑(x\n",
        "i\n",
        "​\n",
        " −μ)\n",
        "2\n",
        "\n",
        "​\n",
        "\n",
        "𝑥\n",
        "𝑖\n",
        "x\n",
        "i\n",
        "​\n",
        " : Each data point\n",
        "\n",
        "𝜇\n",
        "μ: Population mean\n",
        "\n",
        "𝑁\n",
        "N: Total number of data points\n",
        "\n",
        "🔸 For a Sample:\n",
        "𝑠\n",
        "2\n",
        "=\n",
        "∑\n",
        "(\n",
        "𝑥\n",
        "𝑖\n",
        "−\n",
        "𝑥\n",
        "ˉ\n",
        ")\n",
        "2\n",
        "𝑛\n",
        "−\n",
        "1\n",
        "s\n",
        "2\n",
        " =\n",
        "n−1\n",
        "∑(x\n",
        "i\n",
        "​\n",
        " −\n",
        "x\n",
        "ˉ\n",
        " )\n",
        "2\n",
        "\n",
        "​\n",
        "\n",
        "𝑥\n",
        "ˉ\n",
        "x\n",
        "ˉ\n",
        " : Sample mean\n",
        "\n",
        "𝑛\n",
        "n: Sample size\n",
        "\n",
        "𝑠\n",
        "2\n",
        "s\n",
        "2\n",
        " : Sample variance"
      ],
      "metadata": {
        "id": "RGYy5l-J2brr"
      }
    },
    {
      "cell_type": "markdown",
      "source": [
        "Q15. What is standard deviation, and why is it important?\n",
        "\n",
        "ANS:  Standard deviation measures the amount of variation or dispersion in a dataset.\n",
        "It shows how spread out the values are from the mean.\n",
        "\n",
        "✅ Standard Deviation Important because ?\n",
        "\n",
        "Measures Data Consistency\n",
        "\n",
        "Small SD → Values are close to the mean (consistent)\n",
        "\n",
        "Large SD → Values are spread out (more variation)\n",
        "\n",
        "Helps in Risk Assessment\n",
        "\n",
        "In finance, engineering, or construction, a higher SD may indicate higher risk or uncertainty.\n",
        "\n",
        "Used in Quality Control\n",
        "\n",
        "Ensures material or process performance is within acceptable limits.\n",
        "\n",
        "Supports Comparison Between Datasets\n",
        "\n",
        "Two datasets with same mean but different SD behave differently."
      ],
      "metadata": {
        "id": "Qiw5jZCx2AsP"
      }
    },
    {
      "cell_type": "markdown",
      "source": [
        "Q16.  Define and explain the term range in statistics?\n",
        "\n",
        "ANS:  A range is the most common and easily understandable measure of dispersion. It is the difference between two\n",
        "extreme observations of the data set. If X max and X min are the two extreme observations then\n",
        "xmin\n",
        "\n",
        "Since it is based on two extreme observations, it gets affected by fluctuations.\n",
        "Thus, range is not a reliable measure of dispersion"
      ],
      "metadata": {
        "id": "F341ZAKZ3kT-"
      }
    },
    {
      "cell_type": "markdown",
      "source": [
        "Q17.What is the difference between variance and standard deviation?\n",
        "\n",
        "ANS:In statistics, the standard deviation is a very common measure of dispersion. Standard deviation measures\n",
        "how spread out the values in a data set are around the mean. More precisely, it is a measure of the average\n",
        "distance between the values of the data in the set and the mean. If the data values are all similar, then the\n",
        "standard deviation will be low (closer to zero). If the data values are highly variable, then the standard variation\n",
        "is high (further from zero).\n",
        "The standard deviation is always a positive number and is always measured in the same units as the original\n",
        "data. Squaring the deviations overcomes the drawback of ignoring signs in mean deviations i.e. distance of\n",
        "points from mean must always be positive.\n",
        "\n",
        "The Variance is defined as the average of the squared differences from the Mean.\n",
        "Let the population if n elements, The mean deviation of the data is\n",
        "So, Variance = Standard Deviation 22\n",
        "Standard deviation is easier to interpret than variance because it is on same scale as of the given data.\n",
        "Mathematically working with squared values are preferred over absolute values especially for statistical\n",
        "models. Hence, we prefer standard deviation over mean absolute deviation."
      ],
      "metadata": {
        "id": "GopEgeRnwhmK"
      }
    },
    {
      "cell_type": "markdown",
      "source": [
        "Q18. What is skewness in a dataset?\n",
        "\n",
        "ANS:  Skewness is asymmetry in a statistical distribution, in which the curve appears distorted or skewed to the left or\n",
        "right. Skewness can be quantified to define the extent to which a distribution differs from a normal distribution."
      ],
      "metadata": {
        "id": "FJaqiWSBxL1K"
      }
    },
    {
      "cell_type": "markdown",
      "source": [
        "Q19.What does it mean if a dataset is positively or negatively skewed?\n",
        "\n",
        "ANS:.When a distribution is skewed to the left, the tail on the curve's left-hand side is longer than the tail on the right-\n",
        "hand side, and the mean is less than the mode. This situation is also called negative skewness.\n",
        "\n",
        "When a distribution is skewed to the right, the tail on the curve's right-hand side is longer than the tail on the\n",
        "left-hand side, and the mean is greater than the mode. This situation is also called positive skewness."
      ],
      "metadata": {
        "id": "1oPrqJxTxlYB"
      }
    },
    {
      "cell_type": "markdown",
      "source": [
        "Q20. Define and explain kurtosis?\n",
        "\n",
        "ANS : Kurtosis is a statistical measure that describes the shape of a distribution’s tails in relation to its overall shape — particularly, how heavy or light the tails are compared to a normal distribution.\n"
      ],
      "metadata": {
        "id": "xTUqeLbtx1hJ"
      }
    },
    {
      "cell_type": "markdown",
      "source": [
        "Q21.What is the purpose of covariance?\n",
        "\n",
        "ANS:Covariance is a statistical measure used to determine the relationship between two variables — specifically, how they change together.\n",
        "\n",
        "To identify the direction of the linear relationship between two variables:\n",
        "\n",
        "Positive covariance: When one variable increases, the other tends to increase.\n",
        "\n",
        "Negative covariance: When one variable increases, the other tends to decrease.\n",
        "\n",
        "Zero covariance: No linear relationship between the variables.\n",
        "\n"
      ],
      "metadata": {
        "id": "Q9t1AHoWzDth"
      }
    },
    {
      "cell_type": "markdown",
      "source": [
        "Q22.What does correlation measure in statistics?\n",
        "\n",
        "ANS:  Correlation measures the strength and direction of a linear relationship between two variables.\n",
        "\n",
        "Direction:\n",
        "\n",
        "Positive correlation: As one variable increases, the other tends to increase.\n",
        "\n",
        "Negative correlation: As one increases, the other tends to decrease.\n",
        "\n",
        "Strength:\n",
        "\n",
        "Closer to ±1 = strong relationship\n",
        "\n",
        "Closer to 0 = weak or no relationship\n",
        "\n"
      ],
      "metadata": {
        "id": "z_caQXzZznNo"
      }
    },
    {
      "cell_type": "markdown",
      "source": [
        "Q23.What is the difference between covariance and correlation?\n",
        "\n",
        "ANS:Covariance and correlation are both statistical measures used to describe how two variables change in relation to each other. However, they differ in scale, interpretability, and application.\n",
        "\n",
        "Covariance measures the direction of the linear relationship between two variables.\n",
        "\n",
        "If they increase together, the covariance is positive.\n",
        "\n",
        "If one increases while the other decreases, the covariance is negative.\n",
        "\n",
        "Correlation measures both the direction and strength of the linear relationship between two variables.\n",
        "\n"
      ],
      "metadata": {
        "id": "LeKlH6X1z8f_"
      }
    },
    {
      "cell_type": "markdown",
      "source": [
        "Q24.What are some real-world applications of statistics?\n",
        "\n",
        "ANS:🔬 1. Healthcare and Medicine\n",
        "Clinical trials: Assess the effectiveness of new drugs or treatments.\n",
        "\n",
        "Epidemiology: Track the spread of diseases and evaluate risk factors (e.g., COVID-19 infection models).\n",
        "\n",
        "Medical diagnosis: Use statistical models to interpret test results (e.g., cancer detection algorithms).\n",
        "\n",
        "💼 2. Business and Economics\n",
        "Market research: Analyze customer preferences, segment markets, and predict trends.\n",
        "\n",
        "Quality control: Use statistical process control (SPC) to monitor manufacturing.\n",
        "\n",
        "Forecasting: Predict sales, inventory demand, or stock prices using time series analysis.\n",
        "\n",
        "📊 3. Government and Public Policy\n",
        "Census and surveys: Collect demographic data to allocate resources, set district boundaries, or guide social programs.\n",
        "\n",
        "Policy evaluation: Measure the impact of public policies (e.g., tax reforms or educational programs).\n",
        "\n",
        "Unemployment and inflation rates: Calculated using statistical sampling and modeling."
      ],
      "metadata": {
        "id": "PNlCTjF-3nc2"
      }
    },
    {
      "cell_type": "markdown",
      "source": [
        "***PRACTICAL QUESTIONS***"
      ],
      "metadata": {
        "id": "nkTgODry30a9"
      }
    },
    {
      "cell_type": "markdown",
      "source": [
        "Q1. How do you calculate the mean, median, and mode of a dataset?\n",
        "\n",
        "ANS:"
      ],
      "metadata": {
        "id": "3ywm0QVRgQzz"
      }
    },
    {
      "cell_type": "code",
      "source": [
        "import statistics\n",
        "\n",
        "# Example dataset\n",
        "data = [4, 2, 4, 6, 7, 2, 4]\n",
        "\n",
        "# Calculate mean\n",
        "mean_value = statistics.mean(data)\n",
        "\n",
        "# Calculate median\n",
        "median_value = statistics.median(data)\n",
        "\n",
        "# Calculate mode\n",
        "mode_value = statistics.mode(data)\n",
        "\n",
        "# Print the results\n",
        "print(\"Dataset:\", data)\n",
        "print(\"Mean:\", mean_value)\n",
        "print(\"Median:\", median_value)\n",
        "print(\"Mode:\", mode_value)\n"
      ],
      "metadata": {
        "colab": {
          "base_uri": "https://localhost:8080/"
        },
        "id": "XQEfzuOA447g",
        "outputId": "c09e6004-4fa9-49de-ceac-07abe1c3c109"
      },
      "execution_count": null,
      "outputs": [
        {
          "output_type": "stream",
          "name": "stdout",
          "text": [
            "Dataset: [4, 2, 4, 6, 7, 2, 4]\n",
            "Mean: 4.142857142857143\n",
            "Median: 4\n",
            "Mode: 4\n"
          ]
        }
      ]
    },
    {
      "cell_type": "markdown",
      "source": [
        "Q2. Write a Python program to compute the variance and standard deviation of a dataset?"
      ],
      "metadata": {
        "id": "63Kn_-Ea5BMQ"
      }
    },
    {
      "cell_type": "code",
      "source": [
        "import statistics\n",
        "\n",
        "# Example dataset\n",
        "data = [4, 2, 4, 6, 7, 2, 4]\n",
        "\n",
        "# Calculate variance\n",
        "variance = statistics.variance(data)\n",
        "\n",
        "# Calculate standard deviation\n",
        "std_dev = statistics.stdev(data)\n",
        "\n",
        "# Print the results\n",
        "print(\"Dataset:\", data)\n",
        "print(\"Variance:\", variance)\n",
        "print(\"Standard Deviation:\", std_dev)\n"
      ],
      "metadata": {
        "colab": {
          "base_uri": "https://localhost:8080/"
        },
        "id": "WcU624g75Gcp",
        "outputId": "917c584f-a1ba-47d9-ef25-e125e1717b31"
      },
      "execution_count": null,
      "outputs": [
        {
          "output_type": "stream",
          "name": "stdout",
          "text": [
            "Dataset: [4, 2, 4, 6, 7, 2, 4]\n",
            "Variance: 3.4761904761904763\n",
            "Standard Deviation: 1.864454471471609\n"
          ]
        }
      ]
    },
    {
      "cell_type": "markdown",
      "source": [
        "Q3.Create a dataset and classify it into nominal, ordinal, interval, and ratio types?"
      ],
      "metadata": {
        "id": "mMC-Pr_65Rsa"
      }
    },
    {
      "cell_type": "code",
      "source": [
        "import pandas as pd\n",
        "from pandas.api.types import CategoricalDtype\n",
        "\n",
        "# Create a sample dataset\n",
        "data = {\n",
        "    'Student_ID': [101, 102, 103, 104],\n",
        "    'Gender': ['Male', 'Female', 'Male', 'Female'],  # Nominal\n",
        "    'Grade_Level': ['Freshman', 'Sophomore', 'Junior', 'Senior'],  # Ordinal\n",
        "    'Temperature_C': [36.5, 37.1, 36.8, 37.0],  # Interval\n",
        "    'Test_Score_Percent': [88, 92, 75, 85]  # Ratio\n",
        "}\n",
        "\n",
        "# Define the ordinal order for grade levels\n",
        "grade_order = CategoricalDtype(['Freshman', 'Sophomore', 'Junior', 'Senior'], ordered=True)\n",
        "\n",
        "# Create DataFrame\n",
        "df = pd.DataFrame(data)\n",
        "\n",
        "# Convert Grade_Level to ordinal\n",
        "df['Grade_Level'] = df['Grade_Level'].astype(grade_order)\n",
        "\n",
        "# Display the DataFrame\n",
        "print(\"=== Dataset ===\")\n",
        "print(df)\n",
        "\n",
        "# Classify variables\n",
        "data_types = {\n",
        "    'Student_ID': 'Nominal (ID - unique identifier)',\n",
        "    'Gender': 'Nominal (categorical, no order)',\n",
        "    'Grade_Level': 'Ordinal (categorical, ordered)',\n",
        "    'Temperature_C': 'Interval (numerical, no true zero)',\n",
        "    'Test_Score_Percent': 'Ratio (numerical, true zero)'\n",
        "}\n",
        "\n",
        "print(\"\\n=== Data Types Classification ===\")\n",
        "for column, dtype in data_types.items():\n",
        "    print(f\"{column}: {dtype}\")\n"
      ],
      "metadata": {
        "colab": {
          "base_uri": "https://localhost:8080/"
        },
        "id": "S8cbUVvm5WTA",
        "outputId": "91b70ce5-3c29-4a20-8416-31d76e6eddeb"
      },
      "execution_count": null,
      "outputs": [
        {
          "output_type": "stream",
          "name": "stdout",
          "text": [
            "=== Dataset ===\n",
            "   Student_ID  Gender Grade_Level  Temperature_C  Test_Score_Percent\n",
            "0         101    Male    Freshman           36.5                  88\n",
            "1         102  Female   Sophomore           37.1                  92\n",
            "2         103    Male      Junior           36.8                  75\n",
            "3         104  Female      Senior           37.0                  85\n",
            "\n",
            "=== Data Types Classification ===\n",
            "Student_ID: Nominal (ID - unique identifier)\n",
            "Gender: Nominal (categorical, no order)\n",
            "Grade_Level: Ordinal (categorical, ordered)\n",
            "Temperature_C: Interval (numerical, no true zero)\n",
            "Test_Score_Percent: Ratio (numerical, true zero)\n"
          ]
        }
      ]
    },
    {
      "cell_type": "markdown",
      "source": [
        "Q4. Implement sampling techniques like random sampling and stratified sampling?"
      ],
      "metadata": {
        "id": "ulOMPmzr51ZX"
      }
    },
    {
      "cell_type": "code",
      "source": [
        "import pandas as pd\n",
        "from sklearn.model_selection import train_test_split\n",
        "\n",
        "# Sample dataset\n",
        "data = {\n",
        "    'Student_ID': range(1, 21),\n",
        "    'Gender': ['Male', 'Female'] * 10,\n",
        "    'Grade_Level': ['Freshman', 'Sophomore', 'Junior', 'Senior'] * 5,\n",
        "    'Test_Score': [78, 82, 88, 91, 73, 85, 90, 95, 70, 76, 88, 84, 69, 77, 92, 86, 81, 87, 75, 89]\n",
        "}\n",
        "\n",
        "df = pd.DataFrame(data)\n",
        "print(\"=== Full Dataset ===\")\n",
        "print(df.head())\n"
      ],
      "metadata": {
        "colab": {
          "base_uri": "https://localhost:8080/"
        },
        "id": "IbVq3dNx6AOo",
        "outputId": "6312a38e-5efb-4354-a180-dd826473c250"
      },
      "execution_count": null,
      "outputs": [
        {
          "output_type": "stream",
          "name": "stdout",
          "text": [
            "=== Full Dataset ===\n",
            "   Student_ID  Gender Grade_Level  Test_Score\n",
            "0           1    Male    Freshman          78\n",
            "1           2  Female   Sophomore          82\n",
            "2           3    Male      Junior          88\n",
            "3           4  Female      Senior          91\n",
            "4           5    Male    Freshman          73\n"
          ]
        }
      ]
    },
    {
      "cell_type": "markdown",
      "source": [
        "Q5.Write a Python function to calculate the range of a dataset?"
      ],
      "metadata": {
        "id": "UyJEraSS6IRg"
      }
    },
    {
      "cell_type": "code",
      "source": [
        "def calculate_range(data):\n",
        "    if not data:\n",
        "        return None  # Handle empty dataset\n",
        "    return max(data) - min(data)\n",
        "\n",
        "# Example usage\n",
        "dataset = [4, 7, 2, 9, 5]\n",
        "data_range = calculate_range(dataset)\n",
        "\n",
        "print(\"Dataset:\", dataset)\n",
        "print(\"Range:\", data_range)\n"
      ],
      "metadata": {
        "colab": {
          "base_uri": "https://localhost:8080/"
        },
        "id": "1nVVhhv56OkA",
        "outputId": "9937083b-bf0e-4f7c-e664-7daa0b3e7bd7"
      },
      "execution_count": null,
      "outputs": [
        {
          "output_type": "stream",
          "name": "stdout",
          "text": [
            "Dataset: [4, 7, 2, 9, 5]\n",
            "Range: 7\n"
          ]
        }
      ]
    },
    {
      "cell_type": "markdown",
      "source": [
        "Q6.Create a dataset and plot its histogram to visualize skewness?"
      ],
      "metadata": {
        "id": "BCcy-eFS6Xh3"
      }
    },
    {
      "cell_type": "code",
      "source": [
        "import numpy as np\n",
        "import matplotlib.pyplot as plt\n",
        "import seaborn as sns\n",
        "\n",
        "# Set style\n",
        "sns.set(style=\"whitegrid\")\n",
        "\n",
        "# Create skewed datasets\n",
        "np.random.seed(0)\n",
        "right_skewed = np.random.exponential(scale=2, size=1000)  # Positively skewed\n",
        "left_skewed = -np.random.exponential(scale=2, size=1000)  # Negatively skewed\n",
        "\n",
        "# Plot histograms\n",
        "fig, axes = plt.subplots(1, 2, figsize=(12, 5))\n",
        "\n",
        "# Right-skewed histogram\n",
        "sns.histplot(right_skewed, kde=True, ax=axes[0], color='skyblue')\n",
        "axes[0].set_title('Right (Positive) Skew')\n",
        "\n",
        "# Left-skewed histogram\n",
        "sns.histplot(left_skewed, kde=True, ax=axes[1], color='salmon')\n",
        "axes[1].set_title('Left (Negative) Skew')\n",
        "\n",
        "plt.tight_layout()\n",
        "plt.show()\n"
      ],
      "metadata": {
        "colab": {
          "base_uri": "https://localhost:8080/",
          "height": 501
        },
        "id": "b9WE4-VB62t_",
        "outputId": "5dc6fd63-9ac2-4c88-8993-f775235e955b"
      },
      "execution_count": null,
      "outputs": [
        {
          "output_type": "display_data",
          "data": {
            "text/plain": [
              "<Figure size 1200x500 with 2 Axes>"
            ],
            "image/png": "[encoded data removed]"
          },
          "metadata": {}
        }
      ]
    },
    {
      "cell_type": "markdown",
      "source": [
        "Q7. Calculate skewness and kurtosis of a dataset using Python libraries"
      ],
      "metadata": {
        "id": "fEbxzj6g7cPv"
      }
    },
    {
      "cell_type": "code",
      "source": [
        "import numpy as np\n",
        "from scipy.stats import skew, kurtosis\n",
        "\n",
        "# Create a dataset\n",
        "np.random.seed(0)\n",
        "data = np.random.normal(loc=0, scale=1, size=1000)  # Normal distribution\n",
        "\n",
        "# Calculate skewness and kurtosis\n",
        "data_skewness = skew(data)\n",
        "data_kurtosis = kurtosis(data)  # By default, this is **excess kurtosis**\n",
        "\n",
        "# Display results\n",
        "print(f\"Skewness: {data_skewness:.4f}\")\n",
        "print(f\"Kurtosis (excess): {data_kurtosis:.4f}\")\n"
      ],
      "metadata": {
        "colab": {
          "base_uri": "https://localhost:8080/"
        },
        "id": "6qxDdnOE7o9_",
        "outputId": "670315bf-7f7d-495e-d159-47f2498ea3c6"
      },
      "execution_count": null,
      "outputs": [
        {
          "output_type": "stream",
          "name": "stdout",
          "text": [
            "Skewness: 0.0339\n",
            "Kurtosis (excess): -0.0468\n"
          ]
        }
      ]
    },
    {
      "cell_type": "markdown",
      "source": [
        "Q8.Generate a dataset and demonstrate positive and negative skewness?"
      ],
      "metadata": {
        "id": "yFpGBuLk7rMg"
      }
    },
    {
      "cell_type": "code",
      "source": [
        "import numpy as np\n",
        "import matplotlib.pyplot as plt\n",
        "import seaborn as sns\n",
        "from scipy.stats import skew\n",
        "\n",
        "# Set plot style\n",
        "sns.set(style=\"whitegrid\")\n",
        "np.random.seed(42)\n",
        "\n",
        "# Generate datasets\n",
        "pos_skew = np.random.exponential(scale=2, size=1000)      # Positive skew\n",
        "neg_skew = -np.random.exponential(scale=2, size=1000)     # Negative skew\n",
        "\n",
        "# Calculate skewness\n",
        "pos_skewness = skew(pos_skew)\n",
        "neg_skewness = skew(neg_skew)\n",
        "\n",
        "# Plot histograms\n",
        "fig, axes = plt.subplots(1, 2, figsize=(12, 5))\n",
        "\n",
        "sns.histplot(pos_skew, kde=True, ax=axes[0], color='skyblue')\n",
        "axes[0].set_title(f'Positive Skew\\nSkewness = {pos_skewness:.2f}')\n",
        "\n",
        "sns.histplot(neg_skew, kde=True, ax=axes[1], color='salmon')\n",
        "axes[1].set_title(f'Negative Skew\\nSkewness = {neg_skewness:.2f}')\n",
        "\n",
        "plt.tight_layout()\n",
        "plt.show()\n"
      ],
      "metadata": {
        "colab": {
          "base_uri": "https://localhost:8080/",
          "height": 501
        },
        "id": "l7_JWxw-7y9u",
        "outputId": "a4d347af-f604-434d-de91-7f263c4d452a"
      },
      "execution_count": null,
      "outputs": [
        {
          "output_type": "display_data",
          "data": {
            "text/plain": [
              "<Figure size 1200x500 with 2 Axes>"
            ],
            "image/png": "[encoded data removed]"
          },
          "metadata": {}
        }
      ]
    },
    {
      "cell_type": "markdown",
      "source": [
        "Q9.Write a Python script to calculate covariance between two datasets?"
      ],
      "metadata": {
        "id": "1rL02bPh77oX"
      }
    },
    {
      "cell_type": "code",
      "source": [
        "import numpy as np\n",
        "\n",
        "# Example datasets\n",
        "x = [4, 8, 12, 16, 20]\n",
        "y = [2, 6, 10, 14, 18]\n",
        "\n",
        "# Manual calculation of covariance\n",
        "def manual_covariance(x, y):\n",
        "    n = len(x)\n",
        "    mean_x = sum(x) / n\n",
        "    mean_y = sum(y) / n\n",
        "    cov = sum((x[i] - mean_x) * (y[i] - mean_y) for i in range(n)) / (n - 1)\n",
        "    return cov\n",
        "\n",
        "# Using NumPy\n",
        "cov_matrix = np.cov(x, y, bias=False)  # bias=False uses (n-1) in denominator\n",
        "cov_numpy = cov_matrix[0, 1]  # Off-diagonal is covariance\n",
        "\n",
        "# Output results\n",
        "print(\"Manual Covariance:\", manual_covariance(x, y))\n",
        "print(\"NumPy Covariance:\", cov_numpy)\n"
      ],
      "metadata": {
        "colab": {
          "base_uri": "https://localhost:8080/"
        },
        "id": "1E6aPL4x8CIn",
        "outputId": "321e6a31-606b-42ce-841e-1e27232a62ff"
      },
      "execution_count": null,
      "outputs": [
        {
          "output_type": "stream",
          "name": "stdout",
          "text": [
            "Manual Covariance: 40.0\n",
            "NumPy Covariance: 40.0\n"
          ]
        }
      ]
    },
    {
      "cell_type": "markdown",
      "source": [
        "Q10.Write a Python script to calculate the correlation coefficient between two datasets?"
      ],
      "metadata": {
        "id": "cSgISkaT8GEG"
      }
    },
    {
      "cell_type": "code",
      "source": [
        "import numpy as np\n",
        "from scipy.stats import pearsonr\n",
        "\n",
        "# Example datasets\n",
        "x = [10, 20, 30, 40, 50]\n",
        "y = [12, 24, 33, 45, 52]\n",
        "\n",
        "# Manual calculation of Pearson correlation\n",
        "def manual_correlation(x, y):\n",
        "    n = len(x)\n",
        "    mean_x = np.mean(x)\n",
        "    mean_y = np.mean(y)\n",
        "    numerator = sum((x[i] - mean_x) * (y[i] - mean_y) for i in range(n))\n",
        "    denominator = (sum((x[i] - mean_x)**2 for i in range(n)) *\n",
        "                   sum((y[i] - mean_y)**2 for i in range(n)))**0.5\n",
        "    return numerator / denominator\n",
        "\n",
        "# NumPy method\n",
        "corr_matrix = np.corrcoef(x, y)\n",
        "corr_numpy = corr_matrix[0, 1]\n",
        "\n",
        "# SciPy method\n",
        "corr_scipy, _ = pearsonr(x, y)\n",
        "\n",
        "# Display results\n",
        "print(\"Manual Correlation Coefficient:\", round(manual_correlation(x, y), 4))\n",
        "print(\"NumPy Correlation Coefficient:\", round(corr_numpy, 4))\n",
        "print(\"SciPy Correlation Coefficient:\", round(corr_scipy, 4))\n"
      ],
      "metadata": {
        "colab": {
          "base_uri": "https://localhost:8080/"
        },
        "id": "QaP-B1dr8i7O",
        "outputId": "bbcd78af-3c7e-498b-f3bb-f933bbd3b2f7"
      },
      "execution_count": null,
      "outputs": [
        {
          "output_type": "stream",
          "name": "stdout",
          "text": [
            "Manual Correlation Coefficient: 0.9967\n",
            "NumPy Correlation Coefficient: 0.9967\n",
            "SciPy Correlation Coefficient: 0.9967\n"
          ]
        }
      ]
    },
    {
      "cell_type": "markdown",
      "source": [
        "Q11. Create a scatter plot to visualize the relationship between two variables?"
      ],
      "metadata": {
        "id": "nqqPJRHtrRNw"
      }
    },
    {
      "cell_type": "code",
      "source": [
        "import matplotlib.pyplot as plt\n",
        "\n",
        "# Sample data\n",
        "x = [10, 20, 30, 40, 50]   # Independent variable\n",
        "y = [15, 25, 35, 45, 55]   # Dependent variable\n",
        "\n",
        "# Create scatter plot\n",
        "plt.scatter(x, y, color='blue', marker='o')\n",
        "\n",
        "# Add titles and labels\n",
        "plt.title('Scatter Plot of X vs Y')\n",
        "plt.xlabel('X values')\n",
        "plt.ylabel('Y values')\n",
        "\n",
        "# Show plot\n",
        "plt.grid(True)\n",
        "plt.show()\n"
      ],
      "metadata": {
        "colab": {
          "base_uri": "https://localhost:8080/",
          "height": 472
        },
        "id": "GgvKU7vprhrx",
        "outputId": "ec5082ea-fa8d-4bd4-8d28-e8591f19abe3"
      },
      "execution_count": 1,
      "outputs": [
        {
          "output_type": "display_data",
          "data": {
            "text/plain": [
              "<Figure size 640x480 with 1 Axes>"
            ],
            "image/png": "[encoded data removed]"
          },
          "metadata": {}
        }
      ]
    },
    {
      "cell_type": "markdown",
      "source": [
        "Q12. Implement and compare simple random sampling and systematic sampling?"
      ],
      "metadata": {
        "id": "s0tufy9Fr-t2"
      }
    },
    {
      "cell_type": "code",
      "source": [
        "import numpy as np\n",
        "import pandas as pd\n",
        "import matplotlib.pyplot as plt\n",
        "\n",
        "# Step 1: Create a sample population dataset (e.g., 100 values)\n",
        "population = pd.DataFrame({'Value': np.arange(1, 101)})\n",
        "\n",
        "# Sample size\n",
        "sample_size = 10\n",
        "\n",
        "# Step 2: Simple Random Sampling\n",
        "simple_random_sample = population.sample(n=sample_size, random_state=42)\n",
        "\n",
        "# Step 3: Systematic Sampling\n",
        "k = len(population) // sample_size  # Sampling interval\n",
        "start = np.random.randint(0, k)  # Random start point\n",
        "systematic_sample_indices = np.arange(start, start + k * sample_size, k)\n",
        "systematic_sample = population.iloc[systematic_sample_indices]\n",
        "\n",
        "# Step 4: Compare samples\n",
        "print(\"Simple Random Sample:\\n\", simple_random_sample)\n",
        "print(\"\\nSystematic Sample:\\n\", systematic_sample)\n",
        "\n",
        "# Step 5: Visual Comparison\n",
        "plt.figure(figsize=(10, 5))\n",
        "\n",
        "plt.subplot(1, 2, 1)\n",
        "plt.stem(simple_random_sample['Value'], linefmt='b-', markerfmt='bo', basefmt=' ')\n",
        "plt.title('Simple Random Sampling')\n",
        "plt.xlabel('Sample Index')\n",
        "plt.ylabel('Value')\n",
        "\n",
        "plt.subplot(1, 2, 2)\n",
        "plt.stem(systematic_sample['Value'], linefmt='g-', markerfmt='go', basefmt=' ')\n",
        "plt.title('Systematic Sampling')\n",
        "plt.xlabel('Sample Index')\n",
        "plt.ylabel('Value')\n",
        "\n",
        "plt.tight_layout()\n",
        "plt.show()\n"
      ],
      "metadata": {
        "colab": {
          "base_uri": "https://localhost:8080/",
          "height": 941
        },
        "id": "1-u5UJ0OsIKE",
        "outputId": "b7a70d65-5798-4f52-9cb8-a792845c6caf"
      },
      "execution_count": 2,
      "outputs": [
        {
          "output_type": "stream",
          "name": "stdout",
          "text": [
            "Simple Random Sample:\n",
            "     Value\n",
            "83     84\n",
            "53     54\n",
            "70     71\n",
            "45     46\n",
            "44     45\n",
            "39     40\n",
            "22     23\n",
            "80     81\n",
            "10     11\n",
            "0       1\n",
            "\n",
            "Systematic Sample:\n",
            "     Value\n",
            "5       6\n",
            "15     16\n",
            "25     26\n",
            "35     36\n",
            "45     46\n",
            "55     56\n",
            "65     66\n",
            "75     76\n",
            "85     86\n",
            "95     96\n"
          ]
        },
        {
          "output_type": "display_data",
          "data": {
            "text/plain": [
              "<Figure size 1000x500 with 2 Axes>"
            ],
            "image/png": "[encoded data removed]"
          },
          "metadata": {}
        }
      ]
    },
    {
      "cell_type": "markdown",
      "source": [
        "Q13. Calculate the mean, median, and mode of grouped data?"
      ],
      "metadata": {
        "id": "Y3EbbSgYsUcL"
      }
    },
    {
      "cell_type": "code",
      "source": [
        "import pandas as pd\n",
        "\n",
        "# Class intervals and frequencies\n",
        "class_intervals = [(0, 10), (10, 20), (20, 30), (30, 40), (40, 50)]\n",
        "frequencies = [5, 8, 15, 10, 2]\n",
        "\n",
        "# Create DataFrame\n",
        "df = pd.DataFrame(class_intervals, columns=['Lower', 'Upper'])\n",
        "df['Frequency'] = frequencies\n",
        "\n",
        "# Calculate Class Midpoints (x)\n",
        "df['Midpoint'] = (df['Lower'] + df['Upper']) / 2\n",
        "\n",
        "# Calculate fx\n",
        "df['f * x'] = df['Frequency'] * df['Midpoint']\n",
        "\n",
        "# ---------------- Mean ----------------\n",
        "mean = df['f * x'].sum() / df['Frequency'].sum()\n",
        "\n",
        "# ---------------- Median ----------------\n",
        "n = df['Frequency'].sum()\n",
        "cumulative_f = df['Frequency'].cumsum()\n",
        "median_class_index = cumulative_f[cumulative_f >= n / 2].index[0]\n",
        "\n",
        "L = df.loc[median_class_index, 'Lower']\n",
        "f = df.loc[median_class_index, 'Frequency']\n",
        "F = cumulative_f[median_class_index - 1] if median_class_index > 0 else 0\n",
        "h = df.loc[median_class_index, 'Upper'] - df.loc[median_class_index, 'Lower']\n",
        "median = L + ((n / 2 - F) / f) * h\n",
        "\n",
        "# ---------------- Mode ----------------\n",
        "modal_class_index = df['Frequency'].idxmax()\n",
        "L = df.loc[modal_class_index, 'Lower']\n",
        "f1 = df.loc[modal_class_index, 'Frequency']\n",
        "f0 = df.loc[modal_class_index - 1, 'Frequency'] if modal_class_index > 0 else 0\n",
        "f2 = df.loc[modal_class_index + 1, 'Frequency'] if modal_class_index < len(df) - 1 else 0\n",
        "h = df.loc[modal_class_index, 'Upper'] - df.loc[modal_class_index, 'Lower']\n",
        "mode = L + ((f1 - f0) / ((f1 - f0) + (f1 - f2))) * h if ((f1 - f0) + (f1 - f2)) != 0 else None\n",
        "\n",
        "# ---------------- Output ----------------\n",
        "print(\"Mean:\", round(mean, 2))\n",
        "print(\"Median:\", round(median, 2))\n",
        "print(\"Mode:\", round(mode, 2) if mode is not None else \"Undefined\")\n"
      ],
      "metadata": {
        "colab": {
          "base_uri": "https://localhost:8080/"
        },
        "id": "wy6nradsstM9",
        "outputId": "39972d8e-8750-4d24-a9be-07cb573ba522"
      },
      "execution_count": 3,
      "outputs": [
        {
          "output_type": "stream",
          "name": "stdout",
          "text": [
            "Mean: 24.0\n",
            "Median: 24.67\n",
            "Mode: 25.83\n"
          ]
        }
      ]
    },
    {
      "cell_type": "markdown",
      "source": [
        "Q14.Simulate data using Python and calculate its central tendency and dispersion."
      ],
      "metadata": {
        "id": "eIEwyZxKtsPT"
      }
    },
    {
      "cell_type": "code",
      "source": [
        "import numpy as np\n",
        "import pandas as pd\n",
        "from scipy import stats\n",
        "\n",
        "# Step 1: Simulate data (e.g., exam scores)\n",
        "np.random.seed(42)  # For reproducibility\n",
        "data = np.random.normal(loc=70, scale=10, size=100)  # Mean=70, Std=10, 100 values\n",
        "\n",
        "# Convert to DataFrame\n",
        "df = pd.DataFrame(data, columns=['Scores'])\n",
        "\n",
        "# Step 2: Central Tendency\n",
        "mean = df['Scores'].mean()\n",
        "median = df['Scores'].median()\n",
        "mode = df['Scores'].mode().iloc[0]\n",
        "\n",
        "# Step 3: Dispersion\n",
        "variance = df['Scores'].var()\n",
        "std_dev = df['Scores'].std()\n",
        "data_range = df['Scores'].max() - df['Scores'].min()\n",
        "\n",
        "# Step 4: Display Results\n",
        "print(\"Central Tendency Measures:\")\n",
        "print(f\"Mean   : {mean:.2f}\")\n",
        "print(f\"Median : {median:.2f}\")\n",
        "print(f\"Mode   : {mode:.2f}\")\n",
        "\n",
        "print(\"\\nDispersion Measures:\")\n",
        "print(f\"Variance         : {variance:.2f}\")\n",
        "print(f\"Standard Deviation: {std_dev:.2f}\")\n",
        "print(f\"Range            : {data_range:.2f}\")\n"
      ],
      "metadata": {
        "colab": {
          "base_uri": "https://localhost:8080/"
        },
        "id": "4RrLgIe3tkyJ",
        "outputId": "885978a1-3bff-4380-a276-5431edb903f5"
      },
      "execution_count": 4,
      "outputs": [
        {
          "output_type": "stream",
          "name": "stdout",
          "text": [
            "Central Tendency Measures:\n",
            "Mean   : 68.96\n",
            "Median : 68.73\n",
            "Mode   : 43.80\n",
            "\n",
            "Dispersion Measures:\n",
            "Variance         : 82.48\n",
            "Standard Deviation: 9.08\n",
            "Range            : 44.72\n"
          ]
        }
      ]
    },
    {
      "cell_type": "markdown",
      "source": [
        "Q15. Use NumPy or pandas to summarize a dataset’s descriptive statistics?"
      ],
      "metadata": {
        "id": "f8majHlNtx4d"
      }
    },
    {
      "cell_type": "code",
      "source": [
        "import pandas as pd\n",
        "import numpy as np\n",
        "\n",
        "# Simulate a dataset\n",
        "np.random.seed(0)\n",
        "data = {\n",
        "    'Age': np.random.randint(18, 60, 100),\n",
        "    'Salary': np.random.normal(50000, 10000, 100),\n",
        "    'Experience': np.random.randint(1, 30, 100)\n",
        "}\n",
        "\n",
        "df = pd.DataFrame(data)\n",
        "\n",
        "# Descriptive statistics using pandas\n",
        "summary = df.describe()\n",
        "\n",
        "print(\"Descriptive Statistics Summary:\")\n",
        "print(summary)\n"
      ],
      "metadata": {
        "colab": {
          "base_uri": "https://localhost:8080/"
        },
        "id": "HOQQUtVNuAuC",
        "outputId": "d8f2e92d-59b9-443e-c28f-e334b2b50c27"
      },
      "execution_count": 5,
      "outputs": [
        {
          "output_type": "stream",
          "name": "stdout",
          "text": [
            "Descriptive Statistics Summary:\n",
            "              Age        Salary  Experience\n",
            "count  100.000000    100.000000   100.00000\n",
            "mean    37.890000  49322.335241    15.93000\n",
            "std     13.222948   9672.842584     8.40425\n",
            "min     18.000000  26619.538490     1.00000\n",
            "25%     27.000000  43304.647335     9.00000\n",
            "50%     37.000000  49413.520839    16.50000\n",
            "75%     50.500000  54617.723762    23.00000\n",
            "max     59.000000  73277.381092    29.00000\n"
          ]
        }
      ]
    },
    {
      "cell_type": "markdown",
      "source": [
        "Q16. Plot a boxplot to understand the spread and identify outliers?"
      ],
      "metadata": {
        "id": "gyboz78suDxY"
      }
    },
    {
      "cell_type": "code",
      "source": [
        "import pandas as pd\n",
        "import numpy as np\n",
        "import matplotlib.pyplot as plt\n",
        "import seaborn as sns\n",
        "\n",
        "# Simulate some data\n",
        "np.random.seed(1)\n",
        "data = {\n",
        "    'Scores': np.append(np.random.normal(70, 10, 95), [30, 120, 125, 20, 10])  # Including some outliers\n",
        "}\n",
        "\n",
        "df = pd.DataFrame(data)\n",
        "\n",
        "# Plotting boxplot using seaborn\n",
        "plt.figure(figsize=(8, 5))\n",
        "sns.boxplot(x='Scores', data=df, color='skyblue')\n",
        "\n",
        "# Add title and grid\n",
        "plt.title('Boxplot of Scores with Outliers')\n",
        "plt.grid(True)\n",
        "plt.show()\n"
      ],
      "metadata": {
        "colab": {
          "base_uri": "https://localhost:8080/",
          "height": 487
        },
        "id": "b1Nyr7hRuNTT",
        "outputId": "3c95695c-3564-4645-8561-b8d32cd459ee"
      },
      "execution_count": 6,
      "outputs": [
        {
          "output_type": "display_data",
          "data": {
            "text/plain": [
              "<Figure size 800x500 with 1 Axes>"
            ],
            "image/png": "[encoded data removed]"
          },
          "metadata": {}
        }
      ]
    },
    {
      "cell_type": "markdown",
      "source": [
        "Q17.Calculate the interquartile range (IQR) of a dataset?"
      ],
      "metadata": {
        "id": "McZKkpMDuWes"
      }
    },
    {
      "cell_type": "code",
      "source": [
        "import pandas as pd\n",
        "import numpy as np\n",
        "\n",
        "# Simulate data\n",
        "np.random.seed(0)\n",
        "data = pd.Series(np.random.normal(50, 15, 100))  # 100 values, mean=50, std=15\n",
        "\n",
        "# Calculate IQR\n",
        "Q1 = data.quantile(0.25)\n",
        "Q3 = data.quantile(0.75)\n",
        "IQR = Q3 - Q1\n",
        "\n",
        "print(f\"Q1 (25th percentile): {Q1:.2f}\")\n",
        "print(f\"Q3 (75th percentile): {Q3:.2f}\")\n",
        "print(f\"IQR (Q3 - Q1): {IQR:.2f}\")\n"
      ],
      "metadata": {
        "colab": {
          "base_uri": "https://localhost:8080/"
        },
        "id": "6UEnFY6Puca0",
        "outputId": "ec47bb73-65b9-4991-e453-a7cbac5e5a50"
      },
      "execution_count": 7,
      "outputs": [
        {
          "output_type": "stream",
          "name": "stdout",
          "text": [
            "Q1 (25th percentile): 40.34\n",
            "Q3 (75th percentile): 61.06\n",
            "IQR (Q3 - Q1): 20.71\n"
          ]
        }
      ]
    },
    {
      "cell_type": "markdown",
      "source": [
        "Q18. Implement Z-score normalization and explain its significance?"
      ],
      "metadata": {
        "id": "yRzDFq24urbu"
      }
    },
    {
      "cell_type": "code",
      "source": [
        "import numpy as np\n",
        "import pandas as pd\n",
        "\n",
        "# Simulate data\n",
        "np.random.seed(42)\n",
        "data = pd.DataFrame({'Scores': np.random.normal(70, 10, 10)})\n",
        "\n",
        "# Z-score normalization\n",
        "mean = data['Scores'].mean()\n",
        "std = data['Scores'].std()\n",
        "data['Z_Score'] = (data['Scores'] - mean) / std\n",
        "\n",
        "# Show result\n",
        "print(\"Original Data and Z-Scores:\\n\")\n",
        "print(data)\n"
      ],
      "metadata": {
        "colab": {
          "base_uri": "https://localhost:8080/"
        },
        "id": "o9w_AO7juxWh",
        "outputId": "23855c3b-c767-488d-d2e9-07710ebec2fb"
      },
      "execution_count": 8,
      "outputs": [
        {
          "output_type": "stream",
          "name": "stdout",
          "text": [
            "Original Data and Z-Scores:\n",
            "\n",
            "      Scores   Z_Score\n",
            "0  74.967142  0.067293\n",
            "1  68.617357 -0.810952\n",
            "2  76.476885  0.276107\n",
            "3  85.230299  1.486800\n",
            "4  67.658466 -0.943578\n",
            "5  67.658630 -0.943555\n",
            "6  85.792128  1.564507\n",
            "7  77.674347  0.441729\n",
            "8  65.305256 -1.269052\n",
            "9  75.425600  0.130702\n"
          ]
        }
      ]
    },
    {
      "cell_type": "markdown",
      "source": [
        "Q19. Compare two datasets using their standard deviations?"
      ],
      "metadata": {
        "id": "Pdfhqtw2u5xT"
      }
    },
    {
      "cell_type": "code",
      "source": [
        "import numpy as np\n",
        "import pandas as pd\n",
        "\n",
        "# Simulate two datasets\n",
        "np.random.seed(0)\n",
        "dataset_A = np.random.normal(loc=50, scale=5, size=100)   # Less spread\n",
        "dataset_B = np.random.normal(loc=50, scale=15, size=100)  # More spread\n",
        "\n",
        "# Create DataFrame\n",
        "df = pd.DataFrame({\n",
        "    'Dataset A': dataset_A,\n",
        "    'Dataset B': dataset_B\n",
        "})\n",
        "\n",
        "# Calculate standard deviations\n",
        "std_A = df['Dataset A'].std()\n",
        "std_B = df['Dataset B'].std()\n",
        "\n",
        "# Compare\n",
        "print(f\"Standard Deviation of Dataset A: {std_A:.2f}\")\n",
        "print(f\"Standard Deviation of Dataset B: {std_B:.2f}\")\n",
        "\n",
        "if std_A > std_B:\n",
        "    print(\"👉 Dataset A is more spread out (more variable).\")\n",
        "elif std_A < std_B:\n",
        "    print(\"👉 Dataset B is more spread out (more variable).\")\n",
        "else:\n",
        "    print(\"👉 Both datasets have equal variability.\")\n"
      ],
      "metadata": {
        "colab": {
          "base_uri": "https://localhost:8080/"
        },
        "id": "cJKapB4cvLtv",
        "outputId": "01b20e96-b876-4c6b-cb59-6a7427f0ae51"
      },
      "execution_count": 9,
      "outputs": [
        {
          "output_type": "stream",
          "name": "stdout",
          "text": [
            "Standard Deviation of Dataset A: 5.06\n",
            "Standard Deviation of Dataset B: 15.60\n",
            "👉 Dataset B is more spread out (more variable).\n"
          ]
        }
      ]
    },
    {
      "cell_type": "markdown",
      "source": [
        "Q20.> Write a Python program to visualize covariance using a heatmap?"
      ],
      "metadata": {
        "id": "31Q6ocq9vPtX"
      }
    },
    {
      "cell_type": "code",
      "source": [
        "import numpy as np\n",
        "import pandas as pd\n",
        "import seaborn as sns\n",
        "import matplotlib.pyplot as plt\n",
        "\n",
        "# Step 1: Simulate dataset with multiple variables\n",
        "np.random.seed(42)\n",
        "data = pd.DataFrame({\n",
        "    'Height': np.random.normal(170, 10, 100),\n",
        "    'Weight': np.random.normal(65, 12, 100),\n",
        "    'Age': np.random.randint(18, 60, 100),\n",
        "    'Income': np.random.normal(50000, 8000, 100)\n",
        "})\n",
        "\n",
        "# Step 2: Calculate the covariance matrix\n",
        "cov_matrix = data.cov()\n",
        "\n",
        "# Step 3: Visualize with a heatmap\n",
        "plt.figure(figsize=(8, 6))\n",
        "sns.heatmap(cov_matrix, annot=True, cmap='coolwarm', fmt=\".2f\", linewidths=0.5)\n",
        "plt.title('Covariance Heatmap')\n",
        "plt.show()\n"
      ],
      "metadata": {
        "colab": {
          "base_uri": "https://localhost:8080/",
          "height": 545
        },
        "id": "IDtrt599vVbZ",
        "outputId": "f2a81321-fe75-4ec6-d2d7-dfaa9c61c7ec"
      },
      "execution_count": 10,
      "outputs": [
        {
          "output_type": "display_data",
          "data": {
            "text/plain": [
              "<Figure size 800x600 with 2 Axes>"
            ],
            "image/png": "[encoded data removed]"
          },
          "metadata": {}
        }
      ]
    },
    {
      "cell_type": "markdown",
      "source": [
        "Q21.> Use seaborn to create a correlation matrix for a dataset?"
      ],
      "metadata": {
        "id": "hzS29BaYvbm-"
      }
    },
    {
      "cell_type": "code",
      "source": [
        "import pandas as pd\n",
        "import numpy as np\n",
        "import seaborn as sns\n",
        "import matplotlib.pyplot as plt\n",
        "\n",
        "# Step 1: Simulate a dataset\n",
        "np.random.seed(1)\n",
        "data = pd.DataFrame({\n",
        "    'Height': np.random.normal(170, 10, 100),\n",
        "    'Weight': np.random.normal(65, 15, 100),\n",
        "    'Age': np.random.randint(18, 60, 100),\n",
        "    'Income': np.random.normal(50000, 10000, 100)\n",
        "})\n",
        "\n",
        "# Step 2: Compute correlation matrix\n",
        "corr_matrix = data.corr()\n",
        "\n",
        "# Step 3: Plot correlation heatmap\n",
        "plt.figure(figsize=(8, 6))\n",
        "sns.heatmap(corr_matrix, annot=True, cmap='coolwarm', center=0, linewidths=0.5, fmt=\".2f\")\n",
        "plt.title('Correlation Matrix Heatmap')\n",
        "plt.show()\n"
      ],
      "metadata": {
        "colab": {
          "base_uri": "https://localhost:8080/",
          "height": 545
        },
        "id": "De3RHMC-vhs7",
        "outputId": "73fee0eb-a4d2-42ea-96b8-6bd4398588c7"
      },
      "execution_count": 11,
      "outputs": [
        {
          "output_type": "display_data",
          "data": {
            "text/plain": [
              "<Figure size 800x600 with 2 Axes>"
            ],
            "image/png": "[encoded data removed]"
          },
          "metadata": {}
        }
      ]
    },
    {
      "cell_type": "markdown",
      "source": [
        "Q22.Generate a dataset and implement both variance and standard deviation computations?"
      ],
      "metadata": {
        "id": "xaG8dEU-v0ku"
      }
    },
    {
      "cell_type": "code",
      "source": [
        "import numpy as np\n",
        "import pandas as pd\n",
        "\n",
        "# Step 1: Generate a dataset (e.g., student marks out of 100)\n",
        "np.random.seed(42)\n",
        "marks = np.random.randint(40, 100, 20)  # 20 student marks between 40 and 100\n",
        "\n",
        "# Step 2: Create a DataFrame\n",
        "df = pd.DataFrame({'Marks': marks})\n",
        "\n",
        "# Step 3: Calculate Variance and Standard Deviation using pandas\n",
        "variance_pandas = df['Marks'].var()           # Sample variance (N-1)\n",
        "std_dev_pandas = df['Marks'].std()            # Sample standard deviation\n",
        "\n",
        "# Step 4: Calculate using NumPy\n",
        "variance_numpy = np.var(marks, ddof=1)        # Sample variance\n",
        "std_dev_numpy = np.std(marks, ddof=1)         # Sample std dev\n",
        "\n",
        "# Step 5: Display Results\n",
        "print(\"Generated Marks:\\n\", df)\n",
        "print(\"\\nUsing pandas:\")\n",
        "print(f\"Variance       : {variance_pandas:.2f}\")\n",
        "print(f\"Std Deviation  : {std_dev_pandas:.2f}\")\n",
        "\n",
        "print(\"\\nUsing NumPy:\")\n",
        "print(f\"Variance       : {variance_numpy:.2f}\")\n",
        "print(f\"Std Deviation  : {std_dev_numpy:.2f}\")\n"
      ],
      "metadata": {
        "colab": {
          "base_uri": "https://localhost:8080/"
        },
        "id": "6mMRXuHcv2YA",
        "outputId": "1c7961cb-7600-42d9-a6b1-57a48f65c215"
      },
      "execution_count": 12,
      "outputs": [
        {
          "output_type": "stream",
          "name": "stdout",
          "text": [
            "Generated Marks:\n",
            "     Marks\n",
            "0      78\n",
            "1      91\n",
            "2      68\n",
            "3      54\n",
            "4      82\n",
            "5      47\n",
            "6      60\n",
            "7      78\n",
            "8      97\n",
            "9      58\n",
            "10     62\n",
            "11     50\n",
            "12     50\n",
            "13     63\n",
            "14     92\n",
            "15     75\n",
            "16     79\n",
            "17     63\n",
            "18     42\n",
            "19     61\n",
            "\n",
            "Using pandas:\n",
            "Variance       : 250.89\n",
            "Std Deviation  : 15.84\n",
            "\n",
            "Using NumPy:\n",
            "Variance       : 250.89\n",
            "Std Deviation  : 15.84\n"
          ]
        }
      ]
    },
    {
      "cell_type": "markdown",
      "source": [
        "Q23. Visualize skewness and kurtosis using Python libraries like matplotlib or seaborn>\n"
      ],
      "metadata": {
        "id": "diF8JSi4v9k4"
      }
    },
    {
      "cell_type": "code",
      "source": [
        "import numpy as np\n",
        "import pandas as pd\n",
        "import seaborn as sns\n",
        "import matplotlib.pyplot as plt\n",
        "from scipy.stats import skew, kurtosis\n",
        "\n",
        "# Step 1: Generate skewed dataset (e.g., right-skewed)\n",
        "np.random.seed(0)\n",
        "data = np.random.exponential(scale=2.0, size=1000)  # Positively skewed\n",
        "\n",
        "# Step 2: Create a DataFrame\n",
        "df = pd.DataFrame({'Values': data})\n",
        "\n",
        "# Step 3: Calculate skewness and kurtosis\n",
        "data_skewness = skew(df['Values'])\n",
        "data_kurtosis = kurtosis(df['Values'])  # Excess kurtosis\n",
        "\n",
        "# Step 4: Plot Histogram with KDE\n",
        "plt.figure(figsize=(10, 5))\n",
        "sns.histplot(df['Values'], kde=True, color='skyblue')\n",
        "plt.axvline(df['Values'].mean(), color='red', linestyle='--', label='Mean')\n",
        "plt.title('Distribution with Skewness and Kurtosis')\n",
        "plt.xlabel('Values')\n",
        "plt.ylabel('Frequency')\n",
        "plt.legend()\n",
        "\n",
        "# Step 5: Display skewness & kurtosis\n",
        "plt.text(x=df['Values'].mean()*1.5, y=120,\n",
        "         s=f'Skewness: {data_skewness:.2f}\\nKurtosis: {data_kurtosis:.2f}',\n",
        "         bbox=dict(facecolor='white', alpha=0.5))\n",
        "\n",
        "plt.grid(True)\n",
        "plt.show()\n"
      ],
      "metadata": {
        "colab": {
          "base_uri": "https://localhost:8080/",
          "height": 487
        },
        "id": "kXE3d8g4wU_9",
        "outputId": "5c5623ac-283f-44d1-e44d-be68886c37d6"
      },
      "execution_count": 13,
      "outputs": [
        {
          "output_type": "display_data",
          "data": {
            "text/plain": [
              "<Figure size 1000x500 with 1 Axes>"
            ],
            "image/png": "[encoded data removed]"
          },
          "metadata": {}
        }
      ]
    },
    {
      "cell_type": "markdown",
      "source": [
        "Q24. Implement the Pearson and Spearman correlation coefficients for a dataset"
      ],
      "metadata": {
        "id": "wux3EsSFxBN9"
      }
    },
    {
      "cell_type": "code",
      "source": [
        "import numpy as np\n",
        "import pandas as pd\n",
        "from scipy.stats import pearsonr, spearmanr\n",
        "\n",
        "# Step 1: Simulate a dataset\n",
        "np.random.seed(42)\n",
        "\n",
        "# Create related variables\n",
        "x = np.random.randint(10, 100, 50)\n",
        "y = x + np.random.normal(0, 10, 50)  # Add some noise\n",
        "\n",
        "# Create a DataFrame\n",
        "df = pd.DataFrame({'X': x, 'Y': y})\n",
        "\n",
        "# Step 2: Pearson Correlation\n",
        "pearson_corr, pearson_p = pearsonr(df['X'], df['Y'])\n",
        "\n",
        "# Step 3: Spearman Correlation\n",
        "spearman_corr, spearman_p = spearmanr(df['X'], df['Y'])\n",
        "\n",
        "# Step 4: Output results\n",
        "print(\"📈 Pearson Correlation:\")\n",
        "print(f\"  Coefficient: {pearson_corr:.4f}\")\n",
        "print(f\"  p-value    : {pearson_p:.4f}\")\n",
        "\n",
        "print(\"\\n📊 Spearman Correlation:\")\n",
        "print(f\"  Coefficient: {spearman_corr:.4f}\")\n",
        "print(f\"  p-value    : {spearman_p:.4f}\")\n"
      ],
      "metadata": {
        "colab": {
          "base_uri": "https://localhost:8080/"
        },
        "id": "aL-TzbwhxEYY",
        "outputId": "23f3dba9-5775-42df-f210-62650db64ca9"
      },
      "execution_count": 14,
      "outputs": [
        {
          "output_type": "stream",
          "name": "stdout",
          "text": [
            "📈 Pearson Correlation:\n",
            "  Coefficient: 0.9374\n",
            "  p-value    : 0.0000\n",
            "\n",
            "📊 Spearman Correlation:\n",
            "  Coefficient: 0.9326\n",
            "  p-value    : 0.0000\n"
          ]
        }
      ]
    }
  ]
}